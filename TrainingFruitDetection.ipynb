{
 "cells": [
  {
   "cell_type": "code",
   "execution_count": 7,
   "id": "e5945d71-42f5-4cc7-9f67-df7e285f719a",
   "metadata": {},
   "outputs": [],
   "source": [
    "import pandas as pd\n",
    "import tensorflow as tf\n",
    "import numpy as np\n",
    "from keras.preprocessing.image import ImageDataGenerator\n",
    "import matplotlib.pyplot as plt"
   ]
  },
  {
   "cell_type": "code",
   "execution_count": 9,
   "id": "80f5bb4a-d644-4da3-ab1c-6cd37f432661",
   "metadata": {},
   "outputs": [
    {
     "name": "stdout",
     "output_type": "stream",
     "text": [
      "Found 3115 files belonging to 36 classes.\n"
     ]
    }
   ],
   "source": [
    "training_set=tf.keras.utils.image_dataset_from_directory(\n",
    "    \"/Data Science Softwares/Plant Detection/archive_3/train\",\n",
    "    labels=\"inferred\",\n",
    "    label_mode=\"categorical\",\n",
    "    class_names=None,\n",
    "    color_mode=\"rgb\",\n",
    "    batch_size=32,\n",
    "    image_size=(64, 64),\n",
    "    shuffle=True,\n",
    "    seed=None,\n",
    "    validation_split=None,\n",
    "    subset=None,\n",
    "    interpolation=\"bilinear\",\n",
    "    follow_links=False,\n",
    "    crop_to_aspect_ratio=False\n",
    ")"
   ]
  },
  {
   "cell_type": "code",
   "execution_count": 10,
   "id": "332a6d7d-2185-452b-8b62-2370644276bf",
   "metadata": {},
   "outputs": [
    {
     "name": "stdout",
     "output_type": "stream",
     "text": [
      "Found 351 files belonging to 36 classes.\n"
     ]
    }
   ],
   "source": [
    "validation_set=tf.keras.utils.image_dataset_from_directory(\n",
    "    \"/Data Science Softwares/Plant Detection/archive_3/validation\",\n",
    "    labels=\"inferred\",\n",
    "    label_mode=\"categorical\",\n",
    "    class_names=None,\n",
    "    color_mode=\"rgb\",\n",
    "    batch_size=32,\n",
    "    image_size=(64, 64),\n",
    "    shuffle=True,\n",
    "    seed=None,\n",
    "    validation_split=None,\n",
    "    subset=None,\n",
    "    interpolation=\"bilinear\",\n",
    "    follow_links=False,\n",
    "    crop_to_aspect_ratio=False\n",
    ")"
   ]
  },
  {
   "cell_type": "code",
   "execution_count": 13,
   "id": "d2295627-f1ab-4512-8145-3d88dc3725cf",
   "metadata": {},
   "outputs": [
    {
     "name": "stdout",
     "output_type": "stream",
     "text": [
      "WARNING:tensorflow:From C:\\Users\\Umar Kayani\\AppData\\Roaming\\Python\\Python311\\site-packages\\keras\\src\\backend.py:873: The name tf.get_default_graph is deprecated. Please use tf.compat.v1.get_default_graph instead.\n",
      "\n"
     ]
    }
   ],
   "source": [
    "cnn=tf.keras.models.Sequential()"
   ]
  },
  {
   "cell_type": "code",
   "execution_count": 15,
   "id": "f8eb6d5b-c27f-409d-888a-d33f5e53d5d7",
   "metadata": {},
   "outputs": [
    {
     "name": "stdout",
     "output_type": "stream",
     "text": [
      "WARNING:tensorflow:From C:\\Users\\Umar Kayani\\AppData\\Roaming\\Python\\Python311\\site-packages\\keras\\src\\layers\\pooling\\max_pooling2d.py:161: The name tf.nn.max_pool is deprecated. Please use tf.nn.max_pool2d instead.\n",
      "\n"
     ]
    }
   ],
   "source": [
    "cnn.add(tf.keras.layers.Conv2D(filters=32,kernel_size=3,padding='same',activation='relu',input_shape=[64,64,3]))\n",
    "cnn.add(tf.keras.layers.Conv2D(filters=32,kernel_size=3,activation='relu'))\n",
    "cnn.add(tf.keras.layers.MaxPool2D(pool_size=2,strides=2))\n",
    "\n"
   ]
  },
  {
   "cell_type": "code",
   "execution_count": 17,
   "id": "db9f106e-c458-4b4a-a807-ee2d0eb8dccd",
   "metadata": {},
   "outputs": [],
   "source": [
    "cnn.add(tf.keras.layers.Dropout(0.25))"
   ]
  },
  {
   "cell_type": "code",
   "execution_count": 19,
   "id": "a384e15e-9fd3-4ef4-a333-ae6a77df0521",
   "metadata": {},
   "outputs": [],
   "source": [
    "cnn.add(tf.keras.layers.Conv2D(filters=32,kernel_size=3,padding='same',activation='relu',input_shape=[64,64,3]))\n",
    "cnn.add(tf.keras.layers.Conv2D(filters=32,kernel_size=3,activation='relu'))\n",
    "cnn.add(tf.keras.layers.MaxPool2D(pool_size=2,strides=2))"
   ]
  },
  {
   "cell_type": "code",
   "execution_count": 21,
   "id": "7104879a-cf9e-45d3-8c85-c92468f30e7c",
   "metadata": {},
   "outputs": [],
   "source": [
    "cnn.add(tf.keras.layers.Dropout(0.25))"
   ]
  },
  {
   "cell_type": "code",
   "execution_count": 23,
   "id": "695734eb-6d1f-4c23-9230-a36e2185276e",
   "metadata": {},
   "outputs": [],
   "source": [
    "cnn.add(tf.keras.layers.Flatten())"
   ]
  },
  {
   "cell_type": "code",
   "execution_count": 25,
   "id": "bad6e7a3-cf3a-4c1d-bfe0-b87056a440ff",
   "metadata": {},
   "outputs": [],
   "source": [
    "cnn.add(tf.keras.layers.Dense(units=512,activation='relu'))\n",
    "cnn.add(tf.keras.layers.Dense(units=256,activation='relu'))\n",
    "cnn.add(tf.keras.layers.Dropout(0.25))\n",
    "cnn.add(tf.keras.layers.Dense(units=36,activation='softmax'))"
   ]
  },
  {
   "cell_type": "code",
   "execution_count": 27,
   "id": "c27005b7-3124-44b2-8fa4-cc41e4e755fb",
   "metadata": {},
   "outputs": [
    {
     "name": "stdout",
     "output_type": "stream",
     "text": [
      "WARNING:tensorflow:From C:\\Users\\Umar Kayani\\AppData\\Roaming\\Python\\Python311\\site-packages\\keras\\src\\optimizers\\__init__.py:309: The name tf.train.Optimizer is deprecated. Please use tf.compat.v1.train.Optimizer instead.\n",
      "\n"
     ]
    }
   ],
   "source": [
    "cnn.compile(optimizer='adam',loss='categorical_crossentropy',metrics=['accuracy'])"
   ]
  },
  {
   "cell_type": "code",
   "execution_count": 29,
   "id": "111571eb-8d01-4460-8e98-fee1f690670b",
   "metadata": {},
   "outputs": [
    {
     "name": "stdout",
     "output_type": "stream",
     "text": [
      "Model: \"sequential\"\n",
      "_________________________________________________________________\n",
      " Layer (type)                Output Shape              Param #   \n",
      "=================================================================\n",
      " conv2d (Conv2D)             (None, 64, 64, 32)        896       \n",
      "                                                                 \n",
      " conv2d_1 (Conv2D)           (None, 62, 62, 32)        9248      \n",
      "                                                                 \n",
      " max_pooling2d (MaxPooling2  (None, 31, 31, 32)        0         \n",
      " D)                                                              \n",
      "                                                                 \n",
      " dropout (Dropout)           (None, 31, 31, 32)        0         \n",
      "                                                                 \n",
      " conv2d_2 (Conv2D)           (None, 31, 31, 32)        9248      \n",
      "                                                                 \n",
      " conv2d_3 (Conv2D)           (None, 29, 29, 32)        9248      \n",
      "                                                                 \n",
      " max_pooling2d_1 (MaxPoolin  (None, 14, 14, 32)        0         \n",
      " g2D)                                                            \n",
      "                                                                 \n",
      " dropout_1 (Dropout)         (None, 14, 14, 32)        0         \n",
      "                                                                 \n",
      " flatten (Flatten)           (None, 6272)              0         \n",
      "                                                                 \n",
      " dense (Dense)               (None, 512)               3211776   \n",
      "                                                                 \n",
      " dense_1 (Dense)             (None, 256)               131328    \n",
      "                                                                 \n",
      " dropout_2 (Dropout)         (None, 256)               0         \n",
      "                                                                 \n",
      " dense_2 (Dense)             (None, 36)                9252      \n",
      "                                                                 \n",
      "=================================================================\n",
      "Total params: 3380996 (12.90 MB)\n",
      "Trainable params: 3380996 (12.90 MB)\n",
      "Non-trainable params: 0 (0.00 Byte)\n",
      "_________________________________________________________________\n"
     ]
    }
   ],
   "source": [
    "cnn.summary()"
   ]
  },
  {
   "cell_type": "code",
   "execution_count": 31,
   "id": "4b6193d4-a7b3-41a8-aa62-b610ad71a3bf",
   "metadata": {},
   "outputs": [
    {
     "name": "stdout",
     "output_type": "stream",
     "text": [
      "Epoch 1/32\n",
      "WARNING:tensorflow:From C:\\Users\\Umar Kayani\\AppData\\Roaming\\Python\\Python311\\site-packages\\keras\\src\\utils\\tf_utils.py:492: The name tf.ragged.RaggedTensorValue is deprecated. Please use tf.compat.v1.ragged.RaggedTensorValue instead.\n",
      "\n",
      "WARNING:tensorflow:From C:\\Users\\Umar Kayani\\AppData\\Roaming\\Python\\Python311\\site-packages\\keras\\src\\engine\\base_layer_utils.py:384: The name tf.executing_eagerly_outside_functions is deprecated. Please use tf.compat.v1.executing_eagerly_outside_functions instead.\n",
      "\n",
      "98/98 [==============================] - 158s 1s/step - loss: 10.5177 - accuracy: 0.0279 - val_loss: 3.5831 - val_accuracy: 0.0342\n",
      "Epoch 2/32\n",
      "98/98 [==============================] - 151s 1s/step - loss: 3.5802 - accuracy: 0.0311 - val_loss: 3.5672 - val_accuracy: 0.0484\n",
      "Epoch 3/32\n",
      "98/98 [==============================] - 143s 1s/step - loss: 3.5673 - accuracy: 0.0392 - val_loss: 3.5653 - val_accuracy: 0.0456\n",
      "Epoch 4/32\n",
      "98/98 [==============================] - 157s 2s/step - loss: 3.5398 - accuracy: 0.0526 - val_loss: 3.5314 - val_accuracy: 0.0541\n",
      "Epoch 5/32\n",
      "98/98 [==============================] - 145s 1s/step - loss: 3.4918 - accuracy: 0.0584 - val_loss: 3.4838 - val_accuracy: 0.0798\n",
      "Epoch 6/32\n",
      "98/98 [==============================] - 142s 1s/step - loss: 3.4309 - accuracy: 0.0815 - val_loss: 3.3595 - val_accuracy: 0.1168\n",
      "Epoch 7/32\n",
      "98/98 [==============================] - 169s 2s/step - loss: 3.3522 - accuracy: 0.1043 - val_loss: 3.2324 - val_accuracy: 0.1681\n",
      "Epoch 8/32\n",
      "98/98 [==============================] - 145s 1s/step - loss: 3.2549 - accuracy: 0.1233 - val_loss: 3.0887 - val_accuracy: 0.1994\n",
      "Epoch 9/32\n",
      "98/98 [==============================] - 151s 1s/step - loss: 3.1656 - accuracy: 0.1441 - val_loss: 2.8991 - val_accuracy: 0.2336\n",
      "Epoch 10/32\n",
      "98/98 [==============================] - 152s 1s/step - loss: 3.0830 - accuracy: 0.1650 - val_loss: 2.8247 - val_accuracy: 0.3048\n",
      "Epoch 11/32\n",
      "98/98 [==============================] - 159s 2s/step - loss: 2.9720 - accuracy: 0.1945 - val_loss: 2.6286 - val_accuracy: 0.3333\n",
      "Epoch 12/32\n",
      "98/98 [==============================] - 209s 2s/step - loss: 2.8607 - accuracy: 0.2193 - val_loss: 2.4718 - val_accuracy: 0.3903\n",
      "Epoch 13/32\n",
      "98/98 [==============================] - 160s 2s/step - loss: 2.7271 - accuracy: 0.2607 - val_loss: 2.2799 - val_accuracy: 0.4274\n",
      "Epoch 14/32\n",
      "98/98 [==============================] - 150s 1s/step - loss: 2.6151 - accuracy: 0.2928 - val_loss: 2.1944 - val_accuracy: 0.4501\n",
      "Epoch 15/32\n",
      "98/98 [==============================] - 155s 1s/step - loss: 2.4899 - accuracy: 0.3255 - val_loss: 2.1240 - val_accuracy: 0.4615\n",
      "Epoch 16/32\n",
      "98/98 [==============================] - 162s 1s/step - loss: 2.3716 - accuracy: 0.3583 - val_loss: 1.9846 - val_accuracy: 0.4872\n",
      "Epoch 17/32\n",
      "98/98 [==============================] - 178s 2s/step - loss: 2.2927 - accuracy: 0.3788 - val_loss: 1.9178 - val_accuracy: 0.5185\n",
      "Epoch 18/32\n",
      "98/98 [==============================] - 171s 2s/step - loss: 2.1255 - accuracy: 0.4119 - val_loss: 1.8639 - val_accuracy: 0.5641\n",
      "Epoch 19/32\n",
      "98/98 [==============================] - 141s 1s/step - loss: 2.0952 - accuracy: 0.4369 - val_loss: 1.7818 - val_accuracy: 0.5812\n",
      "Epoch 20/32\n",
      "98/98 [==============================] - 142s 1s/step - loss: 1.9146 - accuracy: 0.4754 - val_loss: 1.6459 - val_accuracy: 0.5840\n",
      "Epoch 21/32\n",
      "98/98 [==============================] - 170s 2s/step - loss: 1.8107 - accuracy: 0.5188 - val_loss: 1.4613 - val_accuracy: 0.6638\n",
      "Epoch 22/32\n",
      "98/98 [==============================] - 225s 2s/step - loss: 1.6558 - accuracy: 0.5432 - val_loss: 1.5611 - val_accuracy: 0.6325\n",
      "Epoch 23/32\n",
      "98/98 [==============================] - 188s 2s/step - loss: 1.6061 - accuracy: 0.5576 - val_loss: 1.2921 - val_accuracy: 0.6866\n",
      "Epoch 24/32\n",
      "98/98 [==============================] - 156s 2s/step - loss: 1.5109 - accuracy: 0.5917 - val_loss: 1.1998 - val_accuracy: 0.7293\n",
      "Epoch 25/32\n",
      "98/98 [==============================] - 179s 2s/step - loss: 1.3662 - accuracy: 0.6343 - val_loss: 1.2431 - val_accuracy: 0.7151\n",
      "Epoch 26/32\n",
      "98/98 [==============================] - 157s 2s/step - loss: 1.3171 - accuracy: 0.6408 - val_loss: 1.1362 - val_accuracy: 0.7436\n",
      "Epoch 27/32\n",
      "98/98 [==============================] - 108s 1s/step - loss: 1.2806 - accuracy: 0.6578 - val_loss: 1.2432 - val_accuracy: 0.7322\n",
      "Epoch 28/32\n",
      "98/98 [==============================] - 111s 1s/step - loss: 1.1648 - accuracy: 0.6748 - val_loss: 1.0591 - val_accuracy: 0.7778\n",
      "Epoch 29/32\n",
      "98/98 [==============================] - 105s 1s/step - loss: 1.0889 - accuracy: 0.6902 - val_loss: 0.9705 - val_accuracy: 0.8262\n",
      "Epoch 30/32\n",
      "98/98 [==============================] - 108s 1s/step - loss: 1.0958 - accuracy: 0.7011 - val_loss: 0.8707 - val_accuracy: 0.8262\n",
      "Epoch 31/32\n",
      "98/98 [==============================] - 105s 1s/step - loss: 0.9798 - accuracy: 0.7393 - val_loss: 0.9599 - val_accuracy: 0.8034\n",
      "Epoch 32/32\n",
      "98/98 [==============================] - 113s 1s/step - loss: 0.9473 - accuracy: 0.7422 - val_loss: 0.8870 - val_accuracy: 0.8319\n"
     ]
    }
   ],
   "source": [
    "training_history = cnn.fit(x=training_set,validation_data=validation_set,epochs=32)"
   ]
  },
  {
   "cell_type": "code",
   "execution_count": 37,
   "id": "c9191aae-bdc8-436a-a858-756c6c608319",
   "metadata": {},
   "outputs": [
    {
     "name": "stdout",
     "output_type": "stream",
     "text": [
      "98/98 [==============================] - 64s 617ms/step - loss: 0.6452 - accuracy: 0.8369\n",
      "Training Accuracy 0.8369181156158447\n"
     ]
    }
   ],
   "source": [
    "train_loss,train_acc=cnn.evaluate(training_set)\n",
    "print(\"Training Accuracy\",train_acc)"
   ]
  },
  {
   "cell_type": "code",
   "execution_count": 38,
   "id": "6fcb49d1-2139-4431-82a9-22b7ddab0ac7",
   "metadata": {},
   "outputs": [
    {
     "name": "stdout",
     "output_type": "stream",
     "text": [
      "11/11 [==============================] - 9s 266ms/step - loss: 0.8870 - accuracy: 0.8319\n",
      "Validation Accuracy 0.8319088220596313\n"
     ]
    }
   ],
   "source": [
    "val_loss,val_acc=cnn.evaluate(validation_set)\n",
    "print(\"Validation Accuracy\",val_acc)"
   ]
  },
  {
   "cell_type": "code",
   "execution_count": null,
   "id": "0f872014-50a1-462d-8341-121f49b0a18a",
   "metadata": {},
   "outputs": [],
   "source": [
    "cnn.save('planttrinedmodel.h5')"
   ]
  },
  {
   "cell_type": "code",
   "execution_count": 41,
   "id": "24c1a029-1187-4edd-b124-608ac67db470",
   "metadata": {},
   "outputs": [
    {
     "data": {
      "text/plain": [
       "{'loss': [10.517688751220703,\n",
       "  3.5801618099212646,\n",
       "  3.5672874450683594,\n",
       "  3.539781093597412,\n",
       "  3.491831064224243,\n",
       "  3.430915594100952,\n",
       "  3.3522274494171143,\n",
       "  3.254946231842041,\n",
       "  3.1656315326690674,\n",
       "  3.083002805709839,\n",
       "  2.9719574451446533,\n",
       "  2.8606832027435303,\n",
       "  2.7270917892456055,\n",
       "  2.6151461601257324,\n",
       "  2.4898645877838135,\n",
       "  2.371589422225952,\n",
       "  2.29266095161438,\n",
       "  2.125466823577881,\n",
       "  2.0951831340789795,\n",
       "  1.9146138429641724,\n",
       "  1.8107410669326782,\n",
       "  1.6557886600494385,\n",
       "  1.6061344146728516,\n",
       "  1.5108978748321533,\n",
       "  1.366188645362854,\n",
       "  1.3170549869537354,\n",
       "  1.2806354761123657,\n",
       "  1.1648348569869995,\n",
       "  1.0889192819595337,\n",
       "  1.0958187580108643,\n",
       "  0.979787290096283,\n",
       "  0.9472536444664001],\n",
       " 'accuracy': [0.02792937308549881,\n",
       "  0.031139647588133812,\n",
       "  0.039165329188108444,\n",
       "  0.05264847353100777,\n",
       "  0.05842696502804756,\n",
       "  0.08154092729091644,\n",
       "  0.10433387011289597,\n",
       "  0.12327447533607483,\n",
       "  0.14414125680923462,\n",
       "  0.16500802338123322,\n",
       "  0.1945425420999527,\n",
       "  0.21926163136959076,\n",
       "  0.2606741487979889,\n",
       "  0.292776882648468,\n",
       "  0.32552167773246765,\n",
       "  0.3582664430141449,\n",
       "  0.37881219387054443,\n",
       "  0.4118780195713043,\n",
       "  0.43691813945770264,\n",
       "  0.47544142603874207,\n",
       "  0.5187801122665405,\n",
       "  0.543178141117096,\n",
       "  0.5576243996620178,\n",
       "  0.5916532874107361,\n",
       "  0.6343499422073364,\n",
       "  0.6407704949378967,\n",
       "  0.6577849388122559,\n",
       "  0.674799382686615,\n",
       "  0.6902086734771729,\n",
       "  0.7011235952377319,\n",
       "  0.7393258213996887,\n",
       "  0.742215096950531],\n",
       " 'val_loss': [3.583069324493408,\n",
       "  3.5672287940979004,\n",
       "  3.565300703048706,\n",
       "  3.5314488410949707,\n",
       "  3.483781099319458,\n",
       "  3.3595032691955566,\n",
       "  3.2323529720306396,\n",
       "  3.088705539703369,\n",
       "  2.899087429046631,\n",
       "  2.8246543407440186,\n",
       "  2.6286191940307617,\n",
       "  2.4717910289764404,\n",
       "  2.279881477355957,\n",
       "  2.194394826889038,\n",
       "  2.1240408420562744,\n",
       "  1.9845895767211914,\n",
       "  1.917776107788086,\n",
       "  1.8639166355133057,\n",
       "  1.7818299531936646,\n",
       "  1.6458606719970703,\n",
       "  1.4612640142440796,\n",
       "  1.5611367225646973,\n",
       "  1.2920933961868286,\n",
       "  1.1997534036636353,\n",
       "  1.2431085109710693,\n",
       "  1.1361660957336426,\n",
       "  1.2432271242141724,\n",
       "  1.0591148138046265,\n",
       "  0.9705201983451843,\n",
       "  0.8707306981086731,\n",
       "  0.9599035382270813,\n",
       "  0.8869524598121643],\n",
       " 'val_accuracy': [0.03418803587555885,\n",
       "  0.04843304678797722,\n",
       "  0.045584045350551605,\n",
       "  0.054131053388118744,\n",
       "  0.07977207750082016,\n",
       "  0.11680911481380463,\n",
       "  0.16809116303920746,\n",
       "  0.1994301974773407,\n",
       "  0.23361822962760925,\n",
       "  0.30484330654144287,\n",
       "  0.3333333432674408,\n",
       "  0.39031338691711426,\n",
       "  0.4273504316806793,\n",
       "  0.45014244318008423,\n",
       "  0.4615384638309479,\n",
       "  0.4871794879436493,\n",
       "  0.5185185074806213,\n",
       "  0.5641025900840759,\n",
       "  0.5811966061592102,\n",
       "  0.5840455889701843,\n",
       "  0.6638176441192627,\n",
       "  0.632478654384613,\n",
       "  0.68660968542099,\n",
       "  0.7293447256088257,\n",
       "  0.7150996923446655,\n",
       "  0.7435897588729858,\n",
       "  0.7321937084197998,\n",
       "  0.7777777910232544,\n",
       "  0.8262107968330383,\n",
       "  0.8262107968330383,\n",
       "  0.8034188151359558,\n",
       "  0.8319088220596313]}"
      ]
     },
     "execution_count": 41,
     "metadata": {},
     "output_type": "execute_result"
    }
   ],
   "source": [
    "training_history.history"
   ]
  },
  {
   "cell_type": "code",
   "execution_count": 67,
   "id": "47f22c18-6aaf-4978-9d0d-bf25e629baf4",
   "metadata": {},
   "outputs": [],
   "source": [
    "import json\n",
    "with open('training_history.json','w') as f:\n",
    "    json.dump(training_history.history,f)"
   ]
  },
  {
   "cell_type": "code",
   "execution_count": 43,
   "id": "cac9b6b5-0545-49c7-a04a-45d6c3f6aa30",
   "metadata": {},
   "outputs": [
    {
     "name": "stdout",
     "output_type": "stream",
     "text": [
      "dict_keys(['loss', 'accuracy', 'val_loss', 'val_accuracy'])\n"
     ]
    }
   ],
   "source": [
    "print(training_history.history.keys())"
   ]
  },
  {
   "cell_type": "code",
   "execution_count": 45,
   "id": "2519d241-8523-49ae-9547-a0273b281ba1",
   "metadata": {},
   "outputs": [
    {
     "data": {
      "image/png": "[encoded data removed]",
      "text/plain": [
       "<Figure size 640x480 with 1 Axes>"
      ]
     },
     "metadata": {},
     "output_type": "display_data"
    }
   ],
   "source": [
    "epochs = [i for i in range(1,33)]\n",
    "plt.plot(epochs,training_history.history['accuracy'],color='red')\n",
    "plt.xlabel('No. of Epochs')\n",
    "plt.ylabel('Traiining Accuracy')\n",
    "plt.title('Visualization of Training Accuracy Result')\n",
    "plt.show()"
   ]
  },
  {
   "cell_type": "code",
   "execution_count": 47,
   "id": "d4f563f3-714d-4045-8280-45468b90fc1d",
   "metadata": {},
   "outputs": [
    {
     "data": {
      "image/png": "[encoded data removed]",
      "text/plain": [
       "<Figure size 640x480 with 1 Axes>"
      ]
     },
     "metadata": {},
     "output_type": "display_data"
    }
   ],
   "source": [
    "plt.plot(epochs,training_history.history['val_accuracy'],color='blue')\n",
    "plt.xlabel('No. of Epochs')\n",
    "plt.ylabel('Validation Accuracy')\n",
    "plt.title('Visualization of Validation Accuracy Result')\n",
    "plt.show()"
   ]
  },
  {
   "cell_type": "code",
   "execution_count": null,
   "id": "44d64744-cf4a-4f83-a624-28ab9e2aa8cb",
   "metadata": {},
   "outputs": [],
   "source": []
  },
  {
   "cell_type": "code",
   "execution_count": null,
   "id": "9605447d-8667-4ec4-af7d-6b816fe0d9bd",
   "metadata": {},
   "outputs": [],
   "source": []
  }
 ],
 "metadata": {
  "kernelspec": {
   "display_name": "Python 3 (ipykernel)",
   "language": "python",
   "name": "python3"
  },
  "language_info": {
   "codemirror_mode": {
    "name": "ipython",
    "version": 3
   },
   "file_extension": ".py",
   "mimetype": "text/x-python",
   "name": "python",
   "nbconvert_exporter": "python",
   "pygments_lexer": "ipython3",
   "version": "3.11.5"
  }
 },
 "nbformat": 4,
 "nbformat_minor": 5
}
